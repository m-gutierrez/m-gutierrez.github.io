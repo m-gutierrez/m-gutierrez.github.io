{
 "metadata": {
  "name": "",
  "signature": "sha256:32d36b4545c30345d0955789bd136489cb765b06b445ba7ef0882c9102b36ba3"
 },
 "nbformat": 3,
 "nbformat_minor": 0,
 "worksheets": [
  {
   "cells": [
    {
     "cell_type": "code",
     "collapsed": false,
     "input": [
      "#making matplotlib plot style\n",
      "import pylab\n",
      "\n",
      "params = {#'backend': 'eps', #'ps.usedistiller': 'xpdf',\n",
      "                  'font.size': self.settings['font_sizes'][0],\n",
      "                  'axes.labelsize': self.settings['font_sizes'][1],\n",
      "                  'axes.titlesize': self.settings['font_sizes'][1],\n",
      "                  'font.family': 'sans-serif',\n",
      "                  'font.sans-serif': self.settings['font'],\n",
      "                  'font.weight': 200,\n",
      "                  'legend.fontsize': self.settings['font_sizes'][2],\n",
      "                  'xtick.labelsize': self.settings['font_sizes'][3],\n",
      "                  'ytick.labelsize': self.settings['font_sizes'][4],\n",
      "                  'text.usetex': False,\n",
      "                  'figure.figsize': self.settings['fig_size'],\n",
      "                  'axes.color_cycle': self.colors,\n",
      "                  'grid.color': self.settings['grid']['color'],\n",
      "                  'grid.linestyle': self.settings['grid']['linestyle'],\n",
      "                  'grid.linewidth': self.settings['grid']['linewidth'],\n",
      "                  'axes.grid': not bool(self.settings['grid']['which']),\n",
      "                  'axes.linewidth':self.settings['axes']['linewidth'],\n",
      "                  'lines.linewidth': self.settings['linewidth']}\n",
      "                  \n",
      "        pylab.rcParams.update(params)"
     ],
     "language": "python",
     "metadata": {},
     "outputs": [
      {
       "ename": "IndentationError",
       "evalue": "unexpected indent (<ipython-input-1-15ce6c81b408>, line 24)",
       "output_type": "pyerr",
       "traceback": [
        "\u001b[0;36m  File \u001b[0;32m\"<ipython-input-1-15ce6c81b408>\"\u001b[0;36m, line \u001b[0;32m24\u001b[0m\n\u001b[0;31m    pylab.rcParams.update(params)\u001b[0m\n\u001b[0m    ^\u001b[0m\n\u001b[0;31mIndentationError\u001b[0m\u001b[0;31m:\u001b[0m unexpected indent\n"
       ]
      }
     ],
     "prompt_number": 1
    },
    {
     "cell_type": "code",
     "collapsed": false,
     "input": [
      "%matplotlib inline\n",
      "import numpy as np\n",
      "import matplotlib.pyplot as plt\n",
      "plt.style.use('fivethirtyeight')\n",
      "\n",
      "\n",
      "x=np.arange(0,10,0.1)\n",
      "sinx=map( lambda i: np.sin(i),x)\n",
      "plt.plot(x,sinx)"
     ],
     "language": "python",
     "metadata": {},
     "outputs": [
      {
       "metadata": {},
       "output_type": "pyout",
       "prompt_number": 16,
       "text": [
        "[<matplotlib.lines.Line2D at 0x11414e0d0>]"
       ]
      },
      {
       "metadata": {},
       "output_type": "display_data",
       "png": "[encoded data removed]",
       "text": [
        "<matplotlib.figure.Figure at 0x110712310>"
       ]
      }
     ],
     "prompt_number": 16
    },
    {
     "cell_type": "code",
     "collapsed": false,
     "input": [
      "print plt.style.available\n",
      "import matplotlib\n",
      "matplotlib.get_configdir()"
     ],
     "language": "python",
     "metadata": {},
     "outputs": [
      {
       "output_type": "stream",
       "stream": "stdout",
       "text": [
        "[u'dark_background', u'bmh', u'grayscale', u'ggplot', u'fivethirtyeight']\n"
       ]
      },
      {
       "metadata": {},
       "output_type": "pyout",
       "prompt_number": 11,
       "text": [
        "u'/Users/Michael/.matplotlib'"
       ]
      }
     ],
     "prompt_number": 11
    },
    {
     "cell_type": "code",
     "collapsed": false,
     "input": [],
     "language": "python",
     "metadata": {},
     "outputs": []
    }
   ],
   "metadata": {}
  }
 ]
}