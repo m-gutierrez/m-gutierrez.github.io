{
 "metadata": {
  "name": "",
  "signature": "sha256:9b9a4aaef5172f9a4913bb09c90e743ba1338a86f5cf77796362cd1fe0400096"
 },
 "nbformat": 3,
 "nbformat_minor": 0,
 "worksheets": [
  {
   "cells": [
    {
     "cell_type": "heading",
     "level": 1,
     "metadata": {},
     "source": [
      "Energy splittings"
     ]
    },
    {
     "cell_type": "code",
     "collapsed": false,
     "input": [
      "#Calculating energy shifts\n",
      "import numpy as np\n",
      "import qutip as qp\n",
      "import OpticalBlochHelpers as OBH\n",
      "BohrMag = 2*np.pi*1.4 #MHz*hbar/Gauss\n",
      "Bexp = 3.96 #gauss\n",
      "Ssplit=BohrMag*OBH.Landeg(1,2,0,0.5,0.5)*Bexp\n",
      "D3split= BohrMag*OBH.Landeg(1,2,2,3/2.0,0.5)*Bexp\n",
      "D5split= BohrMag*OBH.Landeg(1,2,2,5/2.0,0.5)*Bexp\n",
      "\n",
      "dm0=120.475\n",
      "dm01=118.485\n",
      "\n",
      "print 'Bfield dm=+2 S1/2[0.5] -> D5/2[+2.5] = %.3f MHz'%((Ssplit*0.5 - D5split*2.5)/(2*np.pi))\n",
      "print 'Bfield dm=+2 S1/2[-0.5] -> D3/2[+1.5] = %.3f MHz'%((-Ssplit*0.5 - D5split*1.5)/(2*np.pi))\n",
      "print 'Bfield dm=+1 S1/2[-0.5] -> D5/2[+0.5] = %.3f MHz'%((-Ssplit*0.5 - D5split*0.5)/(2*np.pi))\n",
      "print 'Bfield dm=+1 S1/2[+0.5] -> D5/2[+1.5] = %.3f MHz'%((Ssplit*0.5 - D5split*1.5)/(2*np.pi))\n",
      "print 'Bfield dm=+0 S1/2[+0.5] -> D5/2[+0.5] = %.3f MHz'%((Ssplit*0.5 - D5split*0.5)/(2*np.pi))\n",
      "print 'Bfield dm=-0 S1/2[-0.5] -> D5/2[-0.5] = %.3f MHz'%((-Ssplit*0.5 + D5split*0.5)/(2*np.pi))\n",
      "print 'Bfield dm=-1 S1/2[0.5] -> D5/2[-0.5] = %.3f MHz'%((Ssplit*0.5 + D5split*0.5)/(2*np.pi))\n",
      "print 'Bfield dm=-1 S1/2[-0.5] -> D5/2[-1.5] = %.3f MHz'%((-Ssplit*0.5 + D5split*1.5)/(2*np.pi))\n",
      "print 'Bfield dm=-2 S1/2[0.5] -> D5/2[-1.5] = %.3f MHz'%((Ssplit*0.5 + D5split*1.5)/(2*np.pi))\n",
      "print 'Bfield dm=-2 S1/2[-0.5] -> D5/2[-2.5] = %.3f MHz'%((-Ssplit*0.5 + D5split*2.5)/(2*np.pi))\n",
      "\n",
      "print 'splitting 12:52 - n12:32 = %f'%((-Ssplit*0.5 + D5split*2.5)/(2*np.pi)-(Ssplit*0.5 + D5split*1.5)/(2*np.pi))\n",
      "print 'splitting 12:12 - n12:n12 = %f'%((Ssplit*0.5 - D5split*0.5)/(2*np.pi)-(-Ssplit*0.5 + D5split*1.5)/(2*np.pi))\n",
      "\n",
      "\n",
      "dm1 = (183.11 - 191.99)\n",
      "dm11 = (171.96-203.079)\n",
      "center =(171.96+203.079)/2\n",
      "print center\n",
      "\n",
      "\n",
      "print   (171.99-center) / ( (Ssplit*0.5 + D5split*1.5)/(2*np.pi) ) \n",
      "print center + ( (Ssplit*0.5 + D5split*0.5)/(2*np.pi) )"
     ],
     "language": "python",
     "metadata": {},
     "outputs": [
      {
       "output_type": "stream",
       "stream": "stdout",
       "text": [
        "Bfield dm=+2 S1/2[0.5] -> D5/2[+2.5] = -11.088 MHz\n",
        "Bfield dm=+2 S1/2[-0.5] -> D3/2[+1.5] = -15.523 MHz\n",
        "Bfield dm=+1 S1/2[-0.5] -> D5/2[+0.5] = -8.870 MHz\n",
        "Bfield dm=+1 S1/2[+0.5] -> D5/2[+1.5] = -4.435 MHz\n",
        "Bfield dm=+0 S1/2[+0.5] -> D5/2[+0.5] = 2.218 MHz\n",
        "Bfield dm=-0 S1/2[-0.5] -> D5/2[-0.5] = -2.218 MHz\n",
        "Bfield dm=-1 S1/2[0.5] -> D5/2[-0.5] = 8.870 MHz\n",
        "Bfield dm=-1 S1/2[-0.5] -> D5/2[-1.5] = 4.435 MHz\n",
        "Bfield dm=-2 S1/2[0.5] -> D5/2[-1.5] = 15.523 MHz\n",
        "Bfield dm=-2 S1/2[-0.5] -> D5/2[-2.5] = 11.088 MHz\n",
        "splitting 12:52 - n12:32 = -4.435200\n",
        "splitting 12:12 - n12:n12 = -2.217600\n",
        "187.5195\n",
        "-1.00040584416\n",
        "196.3899\n"
       ]
      }
     ],
     "prompt_number": 8
    },
    {
     "cell_type": "code",
     "collapsed": false,
     "input": [
      "%matplotlib inline\n",
      "import matplotlib.pyplot as plt\n",
      "import numpy as np\n",
      "\n",
      "x=np.linspace(1,5,100)\n",
      "plt.plot(x**(-3))\n",
      "plt.plot(x**(-5))"
     ],
     "language": "python",
     "metadata": {},
     "outputs": [
      {
       "metadata": {},
       "output_type": "pyout",
       "prompt_number": 6,
       "text": [
        "[<matplotlib.lines.Line2D at 0x10e0628d0>]"
       ]
      },
      {
       "metadata": {},
       "output_type": "display_data",
       "png": "[encoded data removed]",
       "text": [
        "<matplotlib.figure.Figure at 0x10df8cf10>"
       ]
      }
     ],
     "prompt_number": 6
    },
    {
     "cell_type": "code",
     "collapsed": false,
     "input": [],
     "language": "python",
     "metadata": {},
     "outputs": [
      {
       "metadata": {},
       "output_type": "pyout",
       "prompt_number": 82,
       "text": [
        "array([  6.27300339e-02,   4.52701902e-04,   1.38372490e-05,\n",
        "         1.41261493e-07,   7.53105744e-09,   1.81937741e-07,\n",
        "         5.16548742e-07,   6.40319444e-07,   4.77905898e-07,\n",
        "         2.28646310e-07,   6.44583653e-08,   7.39934228e-09,\n",
        "         3.83092666e-11,   2.56966116e-10,   9.32713051e-09,\n",
        "         4.24005906e-08,   6.57989061e-08,   7.97717438e-09,\n",
        "         2.22764672e-07,   1.75481425e-06,   2.51449627e-06,\n",
        "         5.16554423e-09,   6.59498199e-06,   7.07061020e-07,\n",
        "         1.25577340e-05,   1.97896225e-06,   5.08330457e-06,\n",
        "         2.10180779e-05,   3.14665219e-05,   3.86417956e-05,\n",
        "         4.09833504e-05,   1.92360509e-05,   4.83877033e-06,\n",
        "         8.01948823e-05,   1.35301946e-06,   1.10838533e-04,\n",
        "         7.20938952e-05,   7.21540851e-06,   5.39987693e-07,\n",
        "         1.14795157e-07,   5.21939906e-05,   3.17123442e-04,\n",
        "         2.82611585e-04,   1.59685652e-04,   5.14302992e-04,\n",
        "         1.08109497e-03,   3.03835669e-04,   2.52493379e-05,\n",
        "         7.00691390e-04,   2.20859614e-03,   4.30333945e-03,\n",
        "         5.41078035e-03,   3.10936788e-03,   1.07432246e-04,\n",
        "         6.87210976e-04,   1.34500419e-04,   3.28137078e-04,\n",
        "         2.40481396e-08,   1.46007636e-04,   1.09231705e-04,\n",
        "         7.64172223e-06,   1.50066758e-05,   4.73669840e-05,\n",
        "         4.38088151e-05,   1.91539379e-05,   1.95828809e-06,\n",
        "         1.82139108e-06,   9.85239263e-06,   1.18773013e-05,\n",
        "         4.54614059e-06,   3.66108221e-08,   3.86163535e-06,\n",
        "         2.35612971e-06,   4.07008674e-07,   1.65931501e-06,\n",
        "         3.49468326e-07,   2.78841531e-07,   5.70375516e-07,\n",
        "         2.89843661e-07,   1.22938203e-07,   7.84891730e-08,\n",
        "         5.83801430e-08,   1.64869884e-08,   1.09000472e-09,\n",
        "         2.17142822e-09,   2.60007829e-10,   1.28756409e-12,\n",
        "         1.04727254e-13,   8.21742632e-11,   1.56247501e-09,\n",
        "         1.60947969e-12,   1.45606879e-08,   3.77783397e-08,\n",
        "         7.29943339e-08,   1.13229683e-07,   9.47737677e-11,\n",
        "         3.25070623e-07,   3.31492565e-07,   3.59351591e-07,\n",
        "         8.77552764e-07])"
       ]
      }
     ],
     "prompt_number": 82
    },
    {
     "cell_type": "code",
     "collapsed": false,
     "input": [
      "import numpy as np\n",
      "import matplotlib.pyplot as plt\n",
      "import matplotlib.animation as animation\n",
      "\n",
      "\n",
      "def update_line(num, data, line):\n",
      "    line.set_data(data[..., :num])\n",
      "    return line,\n",
      "\n",
      "fig1 = plt.figure()\n",
      "\n",
      "data = np.random.rand(2, 25)\n",
      "l, = plt.plot([], [], 'r-')\n",
      "plt.xlim(0, 1)\n",
      "plt.ylim(0, 1)\n",
      "plt.xlabel('x')\n",
      "plt.title('test')\n",
      "line_ani = animation.FuncAnimation(fig1, update_line, 25, fargs=(data, l),\n",
      "                                   interval=50, blit=True)\n",
      "#line_ani.save('lines.mp4')\n",
      "\n",
      "fig2 = plt.figure()\n",
      "\n",
      "x = np.arange(-9, 10)\n",
      "y = np.arange(-9, 10).reshape(-1, 1)\n",
      "base = np.hypot(x, y)\n",
      "ims = []\n",
      "for add in np.arange(15):\n",
      "    ims.append((plt.pcolor(x, y, base + add, norm=plt.Normalize(0, 30)),))\n",
      "\n",
      "im_ani = animation.ArtistAnimation(fig2, ims, interval=50, repeat_delay=3000,\n",
      "                                   blit=True)\n",
      "im_ani.save('im.mp4', metadata={'artist':'Guido'})\n",
      "\n",
      "plt.show()"
     ],
     "language": "python",
     "metadata": {},
     "outputs": [
      {
       "output_type": "stream",
       "stream": "stderr",
       "text": [
        "/opt/local/Library/Frameworks/Python.framework/Versions/2.7/lib/python2.7/site-packages/matplotlib/animation.py:727: UserWarning: MovieWriter ffmpeg unavailable\n",
        "  warnings.warn(\"MovieWriter %s unavailable\" % writer)\n",
        "/opt/local/Library/Frameworks/Python.framework/Versions/2.7/lib/python2.7/site-packages/matplotlib/collections.py:571: FutureWarning: elementwise comparison failed; returning scalar instead, but in the future will perform elementwise comparison\n",
        "  if self._edgecolors == str('face'):\n"
       ]
      },
      {
       "ename": "RuntimeError",
       "evalue": "Error creating movie, return code: 1 Try running with --verbose-debug",
       "output_type": "pyerr",
       "traceback": [
        "\u001b[0;31m---------------------------------------------------------------------------\u001b[0m\n\u001b[0;31mRuntimeError\u001b[0m                              Traceback (most recent call last)",
        "\u001b[0;32m<ipython-input-8-26e8747784be>\u001b[0m in \u001b[0;36m<module>\u001b[0;34m()\u001b[0m\n\u001b[1;32m     31\u001b[0m im_ani = animation.ArtistAnimation(fig2, ims, interval=50, repeat_delay=3000,\n\u001b[1;32m     32\u001b[0m                                    blit=True)\n\u001b[0;32m---> 33\u001b[0;31m \u001b[0mim_ani\u001b[0m\u001b[0;34m.\u001b[0m\u001b[0msave\u001b[0m\u001b[0;34m(\u001b[0m\u001b[0;34m'im.mp4'\u001b[0m\u001b[0;34m,\u001b[0m \u001b[0mmetadata\u001b[0m\u001b[0;34m=\u001b[0m\u001b[0;34m{\u001b[0m\u001b[0;34m'artist'\u001b[0m\u001b[0;34m:\u001b[0m\u001b[0;34m'Guido'\u001b[0m\u001b[0;34m}\u001b[0m\u001b[0;34m)\u001b[0m\u001b[0;34m\u001b[0m\u001b[0m\n\u001b[0m\u001b[1;32m     34\u001b[0m \u001b[0;34m\u001b[0m\u001b[0m\n\u001b[1;32m     35\u001b[0m \u001b[0mplt\u001b[0m\u001b[0;34m.\u001b[0m\u001b[0mshow\u001b[0m\u001b[0;34m(\u001b[0m\u001b[0;34m)\u001b[0m\u001b[0;34m\u001b[0m\u001b[0m\n",
        "\u001b[0;32m/opt/local/Library/Frameworks/Python.framework/Versions/2.7/lib/python2.7/site-packages/matplotlib/animation.pyc\u001b[0m in \u001b[0;36msave\u001b[0;34m(self, filename, writer, fps, dpi, codec, bitrate, extra_args, metadata, extra_anim, savefig_kwargs)\u001b[0m\n\u001b[1;32m    750\u001b[0m                     \u001b[0;31m#TODO: Need to see if turning off blit is really necessary\u001b[0m\u001b[0;34m\u001b[0m\u001b[0;34m\u001b[0m\u001b[0m\n\u001b[1;32m    751\u001b[0m                     \u001b[0manim\u001b[0m\u001b[0;34m.\u001b[0m\u001b[0m_draw_next_frame\u001b[0m\u001b[0;34m(\u001b[0m\u001b[0md\u001b[0m\u001b[0;34m,\u001b[0m \u001b[0mblit\u001b[0m\u001b[0;34m=\u001b[0m\u001b[0mFalse\u001b[0m\u001b[0;34m)\u001b[0m\u001b[0;34m\u001b[0m\u001b[0m\n\u001b[0;32m--> 752\u001b[0;31m                 \u001b[0mwriter\u001b[0m\u001b[0;34m.\u001b[0m\u001b[0mgrab_frame\u001b[0m\u001b[0;34m(\u001b[0m\u001b[0;34m**\u001b[0m\u001b[0msavefig_kwargs\u001b[0m\u001b[0;34m)\u001b[0m\u001b[0;34m\u001b[0m\u001b[0m\n\u001b[0m\u001b[1;32m    753\u001b[0m \u001b[0;34m\u001b[0m\u001b[0m\n\u001b[1;32m    754\u001b[0m         \u001b[0;31m# Reconnect signal for first draw if necessary\u001b[0m\u001b[0;34m\u001b[0m\u001b[0;34m\u001b[0m\u001b[0m\n",
        "\u001b[0;32m/opt/local/Library/Frameworks/Python.framework/Versions/2.7/lib/python2.7/contextlib.pyc\u001b[0m in \u001b[0;36m__exit__\u001b[0;34m(self, type, value, traceback)\u001b[0m\n\u001b[1;32m     22\u001b[0m         \u001b[0;32mif\u001b[0m \u001b[0mtype\u001b[0m \u001b[0;32mis\u001b[0m \u001b[0mNone\u001b[0m\u001b[0;34m:\u001b[0m\u001b[0;34m\u001b[0m\u001b[0m\n\u001b[1;32m     23\u001b[0m             \u001b[0;32mtry\u001b[0m\u001b[0;34m:\u001b[0m\u001b[0;34m\u001b[0m\u001b[0m\n\u001b[0;32m---> 24\u001b[0;31m                 \u001b[0mself\u001b[0m\u001b[0;34m.\u001b[0m\u001b[0mgen\u001b[0m\u001b[0;34m.\u001b[0m\u001b[0mnext\u001b[0m\u001b[0;34m(\u001b[0m\u001b[0;34m)\u001b[0m\u001b[0;34m\u001b[0m\u001b[0m\n\u001b[0m\u001b[1;32m     25\u001b[0m             \u001b[0;32mexcept\u001b[0m \u001b[0mStopIteration\u001b[0m\u001b[0;34m:\u001b[0m\u001b[0;34m\u001b[0m\u001b[0m\n\u001b[1;32m     26\u001b[0m                 \u001b[0;32mreturn\u001b[0m\u001b[0;34m\u001b[0m\u001b[0m\n",
        "\u001b[0;32m/opt/local/Library/Frameworks/Python.framework/Versions/2.7/lib/python2.7/site-packages/matplotlib/animation.pyc\u001b[0m in \u001b[0;36msaving\u001b[0;34m(self, *args)\u001b[0m\n\u001b[1;32m    175\u001b[0m         \u001b[0mself\u001b[0m\u001b[0;34m.\u001b[0m\u001b[0msetup\u001b[0m\u001b[0;34m(\u001b[0m\u001b[0;34m*\u001b[0m\u001b[0margs\u001b[0m\u001b[0;34m)\u001b[0m\u001b[0;34m\u001b[0m\u001b[0m\n\u001b[1;32m    176\u001b[0m         \u001b[0;32myield\u001b[0m\u001b[0;34m\u001b[0m\u001b[0m\n\u001b[0;32m--> 177\u001b[0;31m         \u001b[0mself\u001b[0m\u001b[0;34m.\u001b[0m\u001b[0mfinish\u001b[0m\u001b[0;34m(\u001b[0m\u001b[0;34m)\u001b[0m\u001b[0;34m\u001b[0m\u001b[0m\n\u001b[0m\u001b[1;32m    178\u001b[0m \u001b[0;34m\u001b[0m\u001b[0m\n\u001b[1;32m    179\u001b[0m     \u001b[0;32mdef\u001b[0m \u001b[0m_run\u001b[0m\u001b[0;34m(\u001b[0m\u001b[0mself\u001b[0m\u001b[0;34m)\u001b[0m\u001b[0;34m:\u001b[0m\u001b[0;34m\u001b[0m\u001b[0m\n",
        "\u001b[0;32m/opt/local/Library/Frameworks/Python.framework/Versions/2.7/lib/python2.7/site-packages/matplotlib/animation.pyc\u001b[0m in \u001b[0;36mfinish\u001b[0;34m(self)\u001b[0m\n\u001b[1;32m    363\u001b[0m             raise RuntimeError('Error creating movie, return code: '\n\u001b[1;32m    364\u001b[0m                                \u001b[0;34m+\u001b[0m \u001b[0mstr\u001b[0m\u001b[0;34m(\u001b[0m\u001b[0mself\u001b[0m\u001b[0;34m.\u001b[0m\u001b[0m_proc\u001b[0m\u001b[0;34m.\u001b[0m\u001b[0mreturncode\u001b[0m\u001b[0;34m)\u001b[0m\u001b[0;34m\u001b[0m\u001b[0m\n\u001b[0;32m--> 365\u001b[0;31m                                + ' Try running with --verbose-debug')\n\u001b[0m\u001b[1;32m    366\u001b[0m \u001b[0;34m\u001b[0m\u001b[0m\n\u001b[1;32m    367\u001b[0m     \u001b[0;32mdef\u001b[0m \u001b[0mcleanup\u001b[0m\u001b[0;34m(\u001b[0m\u001b[0mself\u001b[0m\u001b[0;34m)\u001b[0m\u001b[0;34m:\u001b[0m\u001b[0;34m\u001b[0m\u001b[0m\n",
        "\u001b[0;31mRuntimeError\u001b[0m: Error creating movie, return code: 1 Try running with --verbose-debug"
       ]
      },
      {
       "metadata": {},
       "output_type": "display_data",
       "png": "[encoded data removed]",
       "text": [
        "<matplotlib.figure.Figure at 0x10e7dc990>"
       ]
      },
      {
       "metadata": {},
       "output_type": "display_data",
       "png": "[encoded data removed]",
       "text": [
        "<matplotlib.figure.Figure at 0x10e90b390>"
       ]
      }
     ],
     "prompt_number": 8
    },
    {
     "cell_type": "code",
     "collapsed": false,
     "input": [],
     "language": "python",
     "metadata": {},
     "outputs": []
    }
   ],
   "metadata": {}
  }
 ]
}