{
 "metadata": {
  "name": "",
  "signature": "sha256:3f6a7fe666ab91645368e2648fc6bdd86f519e2031ff7571e1acbdd63cb6cb42"
 },
 "nbformat": 3,
 "nbformat_minor": 0,
 "worksheets": [
  {
   "cells": [
    {
     "cell_type": "code",
     "collapsed": false,
     "input": [
      "#Calculating energy shifts\n",
      "import numpy as np\n",
      "import qutip as qp\n",
      "import OpticalBlochHelpers as OBH\n",
      "BohrMag = 2*np.pi*1.4 #MHz*hbar/Gauss\n",
      "Bexp = 5 #gauss\n",
      "Ssplit=BohrMag*OBH.Landeg(1,2,0,0.5,0.5)*Bexp\n",
      "Psplit=BohrMag*OBH.Landeg(1,2,1,0.5,0.5)*Bexp\n",
      "P3split=BohrMag*OBH.Landeg(1,2,1,1.5,0.5)*Bexp\n",
      "D3split= BohrMag*OBH.Landeg(1,2,2,3/2.0,0.5)*Bexp\n",
      "D5split= BohrMag*OBH.Landeg(1,2,2,5/2.0,0.5)*Bexp\n",
      "print OBH.Landeg(1,2,1,0.5,0.5)\n",
      "print OBH.Landeg(1,2,0,0.5,0.5)\n",
      "print OBH.Landeg(1,2,1,1.5,0.5)\n",
      "\n",
      "print 'S-state zeeman splitting for 1 Gauss: 2pi %f MHz'%(Ssplit / (2*np.pi))\n",
      "print 'P-state zeeman splitting for 1 Gauss: 2pi %f MHz'%(Psplit / (2*np.pi))\n",
      "print 'P-state zeeman splitting for 1 Gauss: 2pi %f MHz'%(P3split / (2*np.pi))\n",
      "\n",
      "\n",
      "print np.arccos(2.4/5.89)*180/np.pi\n",
      "dm0=120.475\n",
      "dm01=118.485\n",
      "\n",
      "print 2*(dm0-dm01)\n",
      "print (Ssplit*0.5 - D5split*0.5)/(2*np.pi)\n",
      "print 2*(dm0-dm01)/(2*(Ssplit*0.5 - D5split*0.5)/(2*np.pi))\n",
      "print Ssplit, D5split\n",
      "print 'Bfield dm=+2 S1/2[0.5] -> D5/2[+2.5] = %.3f MHz'%((Ssplit*0.5 - D5split*2.5)/(2*np.pi))\n",
      "print 'Bfield dm=+2 S1/2[-0.5] -> D3/2[+1.5] = %.3f MHz'%((-Ssplit*0.5 - D5split*1.5)/(2*np.pi))\n",
      "print 'Bfield dm=+1 S1/2[-0.5] -> D5/2[+0.5] = %.3f MHz'%((-Ssplit*0.5 - D5split*0.5)/(2*np.pi))\n",
      "print 'Bfield dm=+1 S1/2[+0.5] -> D5/2[+1.5] = %.3f MHz'%((Ssplit*0.5 - D5split*1.5)/(2*np.pi))\n",
      "print 'Bfield dm=+0 S1/2[+0.5] -> D5/2[+0.5] = %.3f MHz'%((Ssplit*0.5 - D5split*0.5)/(2*np.pi))\n",
      "print 'Bfield dm=-0 S1/2[-0.5] -> D5/2[-0.5] = %.3f MHz'%((-Ssplit*0.5 + D5split*0.5)/(2*np.pi))\n",
      "print 'Bfield dm=-1 S1/2[0.5] -> D5/2[-0.5] = %.3f MHz'%((Ssplit*0.5 + D5split*0.5)/(2*np.pi))\n",
      "print 'Bfield dm=-1 S1/2[-0.5] -> D5/2[-1.5] = %.3f MHz'%((-Ssplit*0.5 + D5split*1.5)/(2*np.pi))\n",
      "print 'Bfield dm=-2 S1/2[0.5] -> D5/2[-1.5] = %.3f MHz'%((Ssplit*0.5 + D5split*1.5)/(2*np.pi))\n",
      "print 'Bfield dm=-2 S1/2[-0.5] -> D5/2[-2.5] = %.3f MHz'%((-Ssplit*0.5 + D5split*2.5)/(2*np.pi))\n",
      "\n",
      "print 'splitting 12:52 - n12:32 = %f'%((-Ssplit*0.5 + D5split*2.5)/(2*np.pi)-(Ssplit*0.5 + D5split*1.5)/(2*np.pi))\n",
      "print 'splitting 12:12 - n12:n12 = %f'%((Ssplit*0.5 - D5split*0.5)/(2*np.pi)-(-Ssplit*0.5 + D5split*1.5)/(2*np.pi))\n",
      "\n",
      "print 2*(123.12-124.571)/1.12\n",
      "print np.sqrt(2)*2.59\n",
      "\n",
      "print np.sqrt(3.05**2-2.59**2)\n",
      "print np.sqrt(3.66**2-2.59**2)\n",
      "print 2.8/0.56\n",
      "\n",
      "print (2*2*1500)/0.56E6"
     ],
     "language": "python",
     "metadata": {},
     "outputs": [
      {
       "output_type": "stream",
       "stream": "stdout",
       "text": [
        "0.666666666667\n",
        "2.0\n",
        "1.33333333333\n",
        "S-state zeeman splitting for 1 Gauss: 2pi 14.000000 MHz\n",
        "P-state zeeman splitting for 1 Gauss: 2pi 4.666667 MHz\n",
        "P-state zeeman splitting for 1 Gauss: 2pi 9.333333 MHz\n",
        "65.9539789561\n",
        "3.98\n",
        "2.8\n",
        "0.710714285714\n",
        "87.9645943005 52.7787565803\n",
        "Bfield dm=+2 S1/2[0.5] -> D5/2[+2.5] = -14.000 MHz\n",
        "Bfield dm=+2 S1/2[-0.5] -> D3/2[+1.5] = -19.600 MHz\n",
        "Bfield dm=+1 S1/2[-0.5] -> D5/2[+0.5] = -11.200 MHz\n",
        "Bfield dm=+1 S1/2[+0.5] -> D5/2[+1.5] = -5.600 MHz\n",
        "Bfield dm=+0 S1/2[+0.5] -> D5/2[+0.5] = 2.800 MHz\n",
        "Bfield dm=-0 S1/2[-0.5] -> D5/2[-0.5] = -2.800 MHz\n",
        "Bfield dm=-1 S1/2[0.5] -> D5/2[-0.5] = 11.200 MHz\n",
        "Bfield dm=-1 S1/2[-0.5] -> D5/2[-1.5] = 5.600 MHz\n",
        "Bfield dm=-2 S1/2[0.5] -> D5/2[-1.5] = 19.600 MHz\n",
        "Bfield dm=-2 S1/2[-0.5] -> D5/2[-2.5] = 14.000 MHz\n",
        "splitting 12:52 - n12:32 = -5.600000\n",
        "splitting 12:12 - n12:n12 = -2.800000\n",
        "-2.59107142857\n",
        "3.66281312655\n",
        "1.61071412734\n",
        "2.5860201082\n",
        "5.0\n",
        "0.0107142857143\n"
       ]
      }
     ],
     "prompt_number": 11
    },
    {
     "cell_type": "code",
     "collapsed": false,
     "input": [
      "lmbdaP32=407.7714E-9\n",
      "import scipy.constants as spc\n",
      "c = spc.c\n",
      "\n",
      "print 'Frequency difference %f THz'%(1E-12*c * (1/lmbdaP32-1/406.5E-9))"
     ],
     "language": "python",
     "metadata": {},
     "outputs": [
      {
       "output_type": "stream",
       "stream": "stdout",
       "text": [
        "Frequency difference -2.299459 THz\n"
       ]
      }
     ],
     "prompt_number": 16
    },
    {
     "cell_type": "code",
     "collapsed": false,
     "input": [],
     "language": "python",
     "metadata": {},
     "outputs": []
    }
   ],
   "metadata": {}
  }
 ]
}