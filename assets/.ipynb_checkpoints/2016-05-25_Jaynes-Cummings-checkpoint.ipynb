{
 "metadata": {
  "name": "",
  "signature": "sha256:cc78f8c8530a7f81f0c5c5271e997b9611f4688c4d87fa826893d86f3f8bbf3d"
 },
 "nbformat": 3,
 "nbformat_minor": 0,
 "worksheets": [
  {
   "cells": [
    {
     "cell_type": "heading",
     "level": 1,
     "metadata": {},
     "source": [
      "Jaynes-Cumming model"
     ]
    },
    {
     "cell_type": "markdown",
     "metadata": {},
     "source": [
      "$\\def\\ket#1{\\rvert #1 \\rangle}$\n",
      "$\\def\\bra#1{\\langle #1 \\lvert}$\n",
      "\n",
      "$\\def \\RRR{\\bf R \\bf R}$\n",
      "The simplest description of this experiment is that of a two level system coupled to a single electromagnetic field mode. While there are a great number of details that this description is lacking, a large majority of the dynamics and key features are still present. Moreover, the goal and the majority of effort in this and many other experiments has been in reducing these details sufficiently to observe the 'pure' features described by a two-level system coupled to a single electromagnetic field mode. This system was first described by Edwin Jaynes and Fred Cummings, in trying to adequently describe features to help tuning an Ammonia maser [1]. \n",
      "\n",
      "The free hamiltonians for atom $H_{Atom}$, photon field $H_F$, as well as the dipole-interaction $H_{A-F}$ are given by\n",
      "\n",
      "\\begin{align}\n",
      "    H_{Atom} &= \\hbar \\omega_A \\ket{ e } \\bra{ e } \n",
      "    \\\\\\\n",
      "    H_{F}       &= \\hbar \\omega_{F} a^\\dagger a + \\frac{ 1 }{ 2 }\n",
      "    \\\\\\\n",
      "    H_{A-F}   &= - \\bf d \\cdot \\bf E\n",
      "\\end{align}\n",
      "\n",
      "With $a$ being the photon annilation operator, $\\ket{e}\\bra{e}$ being the excited state of the two-level system, $\\bf d$ is the dipole operator for the two-level atom and $\\bf E$ is the electric field. Both of which can be written in terms of atom / field operators.\n",
      "\n",
      "\\begin{ align }\n",
      "    \\bf d &= d ( \\sigma_+ + \\sigma_-) \n",
      "    \\bf E &= -\\sqrt{ \\frac{ \\hbar \\omega_F }{ 2 \\epsilon_0 } } } \n",
      "\\end{ align }\n",
      "\n",
      "\n",
      "\n",
      "\n",
      "\n",
      "\n",
      "\n",
      "[1] E. T. Jaynes and F. W. Cummings, \u201cComparison of quantum and semiclassical radiation theories with application to the beam maser,\u201d Proceedings of the IEEE 51, 89 (1963)"
     ]
    },
    {
     "cell_type": "code",
     "collapsed": false,
     "input": [
      "import scipy.constants as spc\n",
      "import numpy as np\n",
      "\n",
      "#define constants\n",
      "c = spc.c \n",
      "hbar = spc.hbar\n",
      "epsilon0 = spc.epsilon_0\n",
      "Gamma = 141E6\n",
      "omega =2*np.pi* 710E12\n",
      "d = np.sqrt( 3 * np. pi * epsilon0 * hbar * c**3 * Gamma / omega**3)\n",
      "\n",
      "w = 5E-6\n",
      "L = 1E-3\n",
      "\n",
      "print 1E-6 * d * np.sqrt( omega / (2 * epsilon0 * hbar * (np.pi * w**2 * L))) / (2*np.pi)"
     ],
     "language": "python",
     "metadata": {},
     "outputs": [
      {
       "output_type": "stream",
       "stream": "stdout",
       "text": [
        "17.0332747009\n"
       ]
      }
     ],
     "prompt_number": 9
    },
    {
     "cell_type": "code",
     "collapsed": false,
     "input": [],
     "language": "python",
     "metadata": {},
     "outputs": []
    }
   ],
   "metadata": {}
  }
 ]
}