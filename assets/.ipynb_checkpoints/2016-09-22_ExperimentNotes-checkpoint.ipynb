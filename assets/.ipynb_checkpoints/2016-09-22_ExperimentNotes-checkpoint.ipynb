{
 "metadata": {
  "name": "",
  "signature": "sha256:c63f0ef49d338cc149e81adea5bf0a803117d21bd4a63abcaf5291f2ea500585"
 },
 "nbformat": 3,
 "nbformat_minor": 0,
 "worksheets": []
}