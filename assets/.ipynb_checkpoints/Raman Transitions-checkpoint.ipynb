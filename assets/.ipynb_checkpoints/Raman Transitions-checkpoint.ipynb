{
 "metadata": {
  "name": "",
  "signature": "sha256:7ae33c108efda22986d9437968c9d93772853cd0e44132ff0a04819c9b509701"
 },
 "nbformat": 3,
 "nbformat_minor": 0,
 "worksheets": [
  {
   "cells": [
    {
     "cell_type": "code",
     "collapsed": false,
     "input": [
      "#Calculating energy shifts\n",
      "import numpy as np\n",
      "import qutip as qp\n",
      "import OpticalBlochHelpers as OBH\n",
      "BohrMag = 2*np.pi*1.4 #MHz*hbar/Gauss\n",
      "Bexp = 1 #gauss\n",
      "Ssplit=BohrMag*OBH.Landeg(1,2,0,0.5,0.5)*Bexp\n",
      "D3split= BohrMag*OBH.Landeg(1,2,2,3/2.0,0.5)*Bexp\n",
      "D5split= BohrMag*OBH.Landeg(1,2,2,5/2.0,0.5)*Bexp\n",
      "\n",
      "print np.arccos(2.4/5.89)*180/np.pi\n",
      "dm0=120.475\n",
      "dm01=118.485\n",
      "\n",
      "print 2*(dm0-dm01)\n",
      "print (Ssplit*0.5 - D5split*0.5)/(2*np.pi)\n",
      "print 2*(dm0-dm01)/(2*(Ssplit*0.5 - D5split*0.5)/(2*np.pi))\n",
      "print Ssplit, D5split\n",
      "print 'Bfield dm=+2 S1/2[0.5] -> D5/2[+2.5] = %.3f MHz'%((Ssplit*0.5 - D5split*2.5)/(2*np.pi))\n",
      "print 'Bfield dm=+2 S1/2[-0.5] -> D3/2[+1.5] = %.3f MHz'%((-Ssplit*0.5 - D5split*1.5)/(2*np.pi))\n",
      "print 'Bfield dm=+1 S1/2[-0.5] -> D5/2[+0.5] = %.3f MHz'%((-Ssplit*0.5 - D5split*0.5)/(2*np.pi))\n",
      "print 'Bfield dm=+1 S1/2[+0.5] -> D5/2[+1.5] = %.3f MHz'%((Ssplit*0.5 - D5split*1.5)/(2*np.pi))\n",
      "print 'Bfield dm=+0 S1/2[+0.5] -> D5/2[+0.5] = %.3f MHz'%((Ssplit*0.5 - D5split*0.5)/(2*np.pi))\n",
      "print 'Bfield dm=-0 S1/2[-0.5] -> D5/2[-0.5] = %.3f MHz'%((-Ssplit*0.5 + D5split*0.5)/(2*np.pi))\n",
      "print 'Bfield dm=-1 S1/2[0.5] -> D5/2[-0.5] = %.3f MHz'%((Ssplit*0.5 + D5split*0.5)/(2*np.pi))\n",
      "print 'Bfield dm=-1 S1/2[-0.5] -> D5/2[-1.5] = %.3f MHz'%((-Ssplit*0.5 + D5split*1.5)/(2*np.pi))\n",
      "print 'Bfield dm=-2 S1/2[0.5] -> D5/2[-1.5] = %.3f MHz'%((Ssplit*0.5 + D5split*1.5)/(2*np.pi))\n",
      "print 'Bfield dm=-2 S1/2[-0.5] -> D5/2[-2.5] = %.3f MHz'%((-Ssplit*0.5 + D5split*2.5)/(2*np.pi))\n",
      "\n",
      "print 'splitting 12:52 - n12:32 = %f'%((-Ssplit*0.5 + D5split*2.5)/(2*np.pi)-(Ssplit*0.5 + D5split*1.5)/(2*np.pi))\n",
      "print 'splitting 12:12 - n12:n12 = %f'%((Ssplit*0.5 - D5split*0.5)/(2*np.pi)-(-Ssplit*0.5 + D5split*1.5)/(2*np.pi))\n",
      "\n",
      "print 2*(123.12-124.571)/1.12\n",
      "print np.sqrt(2)*2.59\n",
      "\n",
      "print np.sqrt(3.05**2-2.59**2)\n",
      "print np.sqrt(3.66**2-2.59**2)\n",
      "print 2.8/0.56\n",
      "\n",
      "print (2*2*1500)/0.56E6"
     ],
     "language": "python",
     "metadata": {},
     "outputs": [
      {
       "ename": "NameError",
       "evalue": "name 'OBH' is not defined",
       "output_type": "pyerr",
       "traceback": [
        "\u001b[0;31m---------------------------------------------------------------------------\u001b[0m\n\u001b[0;31mNameError\u001b[0m                                 Traceback (most recent call last)",
        "\u001b[0;32m<ipython-input-2-49dcc1c99fcb>\u001b[0m in \u001b[0;36m<module>\u001b[0;34m()\u001b[0m\n\u001b[1;32m      4\u001b[0m \u001b[0mBohrMag\u001b[0m \u001b[0;34m=\u001b[0m \u001b[0;36m2\u001b[0m\u001b[0;34m*\u001b[0m\u001b[0mnp\u001b[0m\u001b[0;34m.\u001b[0m\u001b[0mpi\u001b[0m\u001b[0;34m*\u001b[0m\u001b[0;36m1.4\u001b[0m \u001b[0;31m#MHz*hbar/Gauss\u001b[0m\u001b[0;34m\u001b[0m\u001b[0m\n\u001b[1;32m      5\u001b[0m \u001b[0mBexp\u001b[0m \u001b[0;34m=\u001b[0m \u001b[0;36m1\u001b[0m \u001b[0;31m#gauss\u001b[0m\u001b[0;34m\u001b[0m\u001b[0m\n\u001b[0;32m----> 6\u001b[0;31m \u001b[0mSsplit\u001b[0m\u001b[0;34m=\u001b[0m\u001b[0mBohrMag\u001b[0m\u001b[0;34m*\u001b[0m\u001b[0mOBH\u001b[0m\u001b[0;34m.\u001b[0m\u001b[0mLandeg\u001b[0m\u001b[0;34m(\u001b[0m\u001b[0;36m1\u001b[0m\u001b[0;34m,\u001b[0m\u001b[0;36m2\u001b[0m\u001b[0;34m,\u001b[0m\u001b[0;36m0\u001b[0m\u001b[0;34m,\u001b[0m\u001b[0;36m0.5\u001b[0m\u001b[0;34m,\u001b[0m\u001b[0;36m0.5\u001b[0m\u001b[0;34m)\u001b[0m\u001b[0;34m*\u001b[0m\u001b[0mBexp\u001b[0m\u001b[0;34m\u001b[0m\u001b[0m\n\u001b[0m\u001b[1;32m      7\u001b[0m \u001b[0mD3split\u001b[0m\u001b[0;34m=\u001b[0m \u001b[0mBohrMag\u001b[0m\u001b[0;34m*\u001b[0m\u001b[0mOBH\u001b[0m\u001b[0;34m.\u001b[0m\u001b[0mLandeg\u001b[0m\u001b[0;34m(\u001b[0m\u001b[0;36m1\u001b[0m\u001b[0;34m,\u001b[0m\u001b[0;36m2\u001b[0m\u001b[0;34m,\u001b[0m\u001b[0;36m2\u001b[0m\u001b[0;34m,\u001b[0m\u001b[0;36m3\u001b[0m\u001b[0;34m/\u001b[0m\u001b[0;36m2.0\u001b[0m\u001b[0;34m,\u001b[0m\u001b[0;36m0.5\u001b[0m\u001b[0;34m)\u001b[0m\u001b[0;34m*\u001b[0m\u001b[0mBexp\u001b[0m\u001b[0;34m\u001b[0m\u001b[0m\n\u001b[1;32m      8\u001b[0m \u001b[0mD5split\u001b[0m\u001b[0;34m=\u001b[0m \u001b[0mBohrMag\u001b[0m\u001b[0;34m*\u001b[0m\u001b[0mOBH\u001b[0m\u001b[0;34m.\u001b[0m\u001b[0mLandeg\u001b[0m\u001b[0;34m(\u001b[0m\u001b[0;36m1\u001b[0m\u001b[0;34m,\u001b[0m\u001b[0;36m2\u001b[0m\u001b[0;34m,\u001b[0m\u001b[0;36m2\u001b[0m\u001b[0;34m,\u001b[0m\u001b[0;36m5\u001b[0m\u001b[0;34m/\u001b[0m\u001b[0;36m2.0\u001b[0m\u001b[0;34m,\u001b[0m\u001b[0;36m0.5\u001b[0m\u001b[0;34m)\u001b[0m\u001b[0;34m*\u001b[0m\u001b[0mBexp\u001b[0m\u001b[0;34m\u001b[0m\u001b[0m\n",
        "\u001b[0;31mNameError\u001b[0m: name 'OBH' is not defined"
       ]
      }
     ],
     "prompt_number": 2
    },
    {
     "cell_type": "code",
     "collapsed": false,
     "input": [],
     "language": "python",
     "metadata": {},
     "outputs": []
    }
   ],
   "metadata": {}
  }
 ]
}